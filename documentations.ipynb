{
 "cells": [
  {
   "cell_type": "markdown",
   "metadata": {},
   "source": [
    "#### BMI Calculator\n",
    "\n",
    "- This syntax build a **web app** for calculating Body Mass Index\n",
    "- This syntax is build to learn essential function of **python** and **streamlit**"
   ]
  },
  {
   "cell_type": "code",
   "execution_count": 5,
   "metadata": {},
   "outputs": [],
   "source": [
    "# build input variable \n",
    "\n",
    "height = float( input( \"input your height in cm: \" ) )\n",
    "weight = float( input( \"input your weight in kg: \" ) )"
   ]
  },
  {
   "cell_type": "code",
   "execution_count": 6,
   "metadata": {},
   "outputs": [],
   "source": [
    "# build function to process variable\n",
    "\n",
    "def BMI( height, weight ):\n",
    "\n",
    "    bmi = round( weight / ( ( height/100 ) **2) ,2)\n",
    "\n",
    "    if bmi < 16:\n",
    "        return bmi, \"severely underweight\"\n",
    "\n",
    "    elif bmi >= 16 and bmi < 18.5:\n",
    "        return bmi, \"underweight\"\n",
    "\n",
    "    elif bmi >= 18.5 and bmi < 25:\n",
    "        return bmi, \"normal & healthy\"\n",
    "\n",
    "    elif bmi >= 25 and bmi < 30:\n",
    "        return bmi, \"overweight\"\n",
    "\n",
    "    elif bmi >= 30 and bmi < 35:\n",
    "        return bmi, \"obese class 1\"\n",
    "\n",
    "    elif bmi >= 35 and bmi < 40:\n",
    "        return bmi, \"obese class 2\"\n",
    "\n",
    "    else:\n",
    "        return bmi, \"obese class 3\""
   ]
  },
  {
   "cell_type": "code",
   "execution_count": 8,
   "metadata": {},
   "outputs": [
    {
     "name": "stdout",
     "output_type": "stream",
     "text": [
      " your body mass index is 32.88 and you are obese class 1\n"
     ]
    }
   ],
   "source": [
    "# 1. applied the function\n",
    "# 2. make a variable to save the data point after processed by func\n",
    "\n",
    "bmi, quote = BMI( height, weight )\n",
    "\n",
    "print(f\" your body mass index is {bmi} and you are {quote}\")"
   ]
  },
  {
   "cell_type": "code",
   "execution_count": 3,
   "metadata": {},
   "outputs": [
    {
     "name": "stdout",
     "output_type": "stream",
     "text": [
      "  Body Mass              Category\n",
      "0       <16  Severely underweight\n",
      "1   16-18.5           Underweight\n",
      "2   18.5-25               Healthy\n",
      "3     25-30            Overweight\n",
      "4     30-35         Obese Class 1\n",
      "5     35-40         Obese Class 2\n",
      "6       >40         Obese Class 1\n"
     ]
    }
   ],
   "source": [
    "# create a reference for bmi\n",
    "\n",
    "import pandas as pd\n",
    "\n",
    "data = {'Body Mass' : ['<16','16-18.5','18.5-25','25-30','30-35','35-40','>40'],\n",
    "        'Category' : ['Severely underweight','Underweight','Healthy','Overweight','Obese Class 1','Obese Class 2','Obese Class 1']}\n",
    "\n",
    "df = pd.DataFrame(data)\n",
    "print(df)"
   ]
  }
 ],
 "metadata": {
  "kernelspec": {
   "display_name": "base",
   "language": "python",
   "name": "python3"
  },
  "language_info": {
   "codemirror_mode": {
    "name": "ipython",
    "version": 3
   },
   "file_extension": ".py",
   "mimetype": "text/x-python",
   "name": "python",
   "nbconvert_exporter": "python",
   "pygments_lexer": "ipython3",
   "version": "3.12.7"
  }
 },
 "nbformat": 4,
 "nbformat_minor": 2
}
